{
 "cells": [
  {
   "cell_type": "code",
   "execution_count": 1,
   "id": "electric-edition",
   "metadata": {},
   "outputs": [
    {
     "name": "stderr",
     "output_type": "stream",
     "text": [
      "/home/vib9/anaconda3/envs/wordrl/lib/python3.7/site-packages/tqdm/auto.py:22: TqdmWarning: IProgress not found. Please update jupyter and ipywidgets. See https://ipywidgets.readthedocs.io/en/stable/user_install.html\n",
      "  from .autonotebook import tqdm as notebook_tqdm\n",
      "/home/vib9/anaconda3/envs/wordrl/lib/python3.7/site-packages/torch/utils/tensorboard/__init__.py:4: DeprecationWarning: distutils Version classes are deprecated. Use packaging.version instead.\n",
      "  if not hasattr(tensorboard, '__version__') or LooseVersion(tensorboard.__version__) < LooseVersion('1.15'):\n"
     ]
    }
   ],
   "source": [
    "import wordrl as wdl\n",
    "import pprint"
   ]
  },
  {
   "cell_type": "code",
   "execution_count": 20,
   "id": "0999f8c7",
   "metadata": {},
   "outputs": [],
   "source": [
    "settings = {\n",
    "    \"dataset\":{\n",
    "        \"word_file\": [\"small_wordle_words.txt\"]\n",
    "    },\n",
    "    \"agent\":{\n",
    "        \"embedding_matrix\": [\"original\", \"original_random\", \"spacy\"],\n",
    "        \"matrix_width\": [300]\n",
    "    },\n",
    "    \"training\":{\n",
    "        \"epochs\": [10000]\n",
    "    },\n",
    "    \"experiment\": {\n",
    "        \"do_render\": [False]\n",
    "    }\n",
    "}"
   ]
  },
  {
   "cell_type": "code",
   "execution_count": 21,
   "id": "b97e9b74",
   "metadata": {},
   "outputs": [
    {
     "name": "stdout",
     "output_type": "stream",
     "text": [
      "{'experiment': {'name': 'a2c_default', 'seed': 123, 'resume_from_checkpoint': '', 'sync_rate': 100, 'steps_per_update': 100, 'num_workers': 0, 'do_render': False}, 'dataset': {'word_file': 'small_wordle_words.txt', 'env': 'Wordle-v2-10-visualized', 'replay_size': 1000, 'init_winning_replays': '', 'episode_length': 512}, 'training': {'algorithm': 'a2c', 'batch_size': 64, 'last_frame_cutoff': 0.8, 'lr': 0.0001, 'weight_decay': 0.0, 'max_eps': 1.0, 'min_eps': 0.01, 'gamma': 0.99, 'prob_play_lost_word': 0.0, 'prob_cheat': 0.0, 'entropy_beta': 0.01, 'critic_beta': 0.5, 'avg_reward_len': 100, 'epochs': 10000, 'epoch_len': 10, 'checkpoint_every_n_epochs': 1000}, 'agent': {'network': 'SumChars', 'hidden_size': 256, 'n_hidden': 1, 'embedding_matrix': 'original', 'matrix_width': 300, 'num_actor_layers': 1, 'num_critic_layers': 1, 'glove_dataset': 'common_crawl_840'}}\n",
      "{'experiment': {'name': 'a2c_default', 'seed': 123, 'resume_from_checkpoint': '', 'sync_rate': 100, 'steps_per_update': 100, 'num_workers': 0, 'do_render': False}, 'dataset': {'word_file': 'small_wordle_words.txt', 'env': 'Wordle-v2-10-visualized', 'replay_size': 1000, 'init_winning_replays': '', 'episode_length': 512}, 'training': {'algorithm': 'a2c', 'batch_size': 64, 'last_frame_cutoff': 0.8, 'lr': 0.0001, 'weight_decay': 0.0, 'max_eps': 1.0, 'min_eps': 0.01, 'gamma': 0.99, 'prob_play_lost_word': 0.0, 'prob_cheat': 0.0, 'entropy_beta': 0.01, 'critic_beta': 0.5, 'avg_reward_len': 100, 'epochs': 10000, 'epoch_len': 10, 'checkpoint_every_n_epochs': 1000}, 'agent': {'network': 'SumChars', 'hidden_size': 256, 'n_hidden': 1, 'embedding_matrix': 'original_random', 'matrix_width': 300, 'num_actor_layers': 1, 'num_critic_layers': 1, 'glove_dataset': 'common_crawl_840'}}\n",
      "{'experiment': {'name': 'a2c_default', 'seed': 123, 'resume_from_checkpoint': '', 'sync_rate': 100, 'steps_per_update': 100, 'num_workers': 0, 'do_render': False}, 'dataset': {'word_file': 'small_wordle_words.txt', 'env': 'Wordle-v2-10-visualized', 'replay_size': 1000, 'init_winning_replays': '', 'episode_length': 512}, 'training': {'algorithm': 'a2c', 'batch_size': 64, 'last_frame_cutoff': 0.8, 'lr': 0.0001, 'weight_decay': 0.0, 'max_eps': 1.0, 'min_eps': 0.01, 'gamma': 0.99, 'prob_play_lost_word': 0.0, 'prob_cheat': 0.0, 'entropy_beta': 0.01, 'critic_beta': 0.5, 'avg_reward_len': 100, 'epochs': 10000, 'epoch_len': 10, 'checkpoint_every_n_epochs': 1000}, 'agent': {'network': 'SumChars', 'hidden_size': 256, 'n_hidden': 1, 'embedding_matrix': 'spacy', 'matrix_width': 300, 'num_actor_layers': 1, 'num_critic_layers': 1, 'glove_dataset': 'common_crawl_840'}}\n"
     ]
    }
   ],
   "source": [
    "config_dicts = wdl.make_config.create_gridsearch(settings, default=\"A2C_DEFAULT\", merge_default=True)"
   ]
  },
  {
   "cell_type": "code",
   "execution_count": 22,
   "id": "ec406b51",
   "metadata": {},
   "outputs": [
    {
     "name": "stdout",
     "output_type": "stream",
     "text": [
      "[{'agent': {'embedding_matrix': 'original',\n",
      "            'glove_dataset': 'common_crawl_840',\n",
      "            'hidden_size': 256,\n",
      "            'matrix_width': 300,\n",
      "            'n_hidden': 1,\n",
      "            'network': 'SumChars',\n",
      "            'num_actor_layers': 1,\n",
      "            'num_critic_layers': 1},\n",
      "  'dataset': {'env': 'Wordle-v2-10-visualized',\n",
      "              'episode_length': 512,\n",
      "              'init_winning_replays': '',\n",
      "              'replay_size': 1000,\n",
      "              'word_file': 'small_wordle_words.txt'},\n",
      "  'experiment': {'do_render': False,\n",
      "                 'name': 'a2c/word_file:small_wordle_words.txt/embedding_matrix:original/matrix_width:300/epochs:10000',\n",
      "                 'num_workers': 0,\n",
      "                 'resume_from_checkpoint': '',\n",
      "                 'seed': 123,\n",
      "                 'steps_per_update': 100,\n",
      "                 'sync_rate': 100},\n",
      "  'training': {'algorithm': 'a2c',\n",
      "               'avg_reward_len': 100,\n",
      "               'batch_size': 64,\n",
      "               'checkpoint_every_n_epochs': 1000,\n",
      "               'critic_beta': 0.5,\n",
      "               'entropy_beta': 0.01,\n",
      "               'epoch_len': 10,\n",
      "               'epochs': 10000,\n",
      "               'gamma': 0.99,\n",
      "               'last_frame_cutoff': 0.8,\n",
      "               'lr': 0.0001,\n",
      "               'max_eps': 1.0,\n",
      "               'min_eps': 0.01,\n",
      "               'prob_cheat': 0.0,\n",
      "               'prob_play_lost_word': 0.0,\n",
      "               'weight_decay': 0.0}},\n",
      " {'agent': {'embedding_matrix': 'original_random',\n",
      "            'glove_dataset': 'common_crawl_840',\n",
      "            'hidden_size': 256,\n",
      "            'matrix_width': 300,\n",
      "            'n_hidden': 1,\n",
      "            'network': 'SumChars',\n",
      "            'num_actor_layers': 1,\n",
      "            'num_critic_layers': 1},\n",
      "  'dataset': {'env': 'Wordle-v2-10-visualized',\n",
      "              'episode_length': 512,\n",
      "              'init_winning_replays': '',\n",
      "              'replay_size': 1000,\n",
      "              'word_file': 'small_wordle_words.txt'},\n",
      "  'experiment': {'do_render': False,\n",
      "                 'name': 'a2c/word_file:small_wordle_words.txt/embedding_matrix:original_random/matrix_width:300/epochs:10000',\n",
      "                 'num_workers': 0,\n",
      "                 'resume_from_checkpoint': '',\n",
      "                 'seed': 123,\n",
      "                 'steps_per_update': 100,\n",
      "                 'sync_rate': 100},\n",
      "  'training': {'algorithm': 'a2c',\n",
      "               'avg_reward_len': 100,\n",
      "               'batch_size': 64,\n",
      "               'checkpoint_every_n_epochs': 1000,\n",
      "               'critic_beta': 0.5,\n",
      "               'entropy_beta': 0.01,\n",
      "               'epoch_len': 10,\n",
      "               'epochs': 10000,\n",
      "               'gamma': 0.99,\n",
      "               'last_frame_cutoff': 0.8,\n",
      "               'lr': 0.0001,\n",
      "               'max_eps': 1.0,\n",
      "               'min_eps': 0.01,\n",
      "               'prob_cheat': 0.0,\n",
      "               'prob_play_lost_word': 0.0,\n",
      "               'weight_decay': 0.0}},\n",
      " {'agent': {'embedding_matrix': 'spacy',\n",
      "            'glove_dataset': 'common_crawl_840',\n",
      "            'hidden_size': 256,\n",
      "            'matrix_width': 300,\n",
      "            'n_hidden': 1,\n",
      "            'network': 'SumChars',\n",
      "            'num_actor_layers': 1,\n",
      "            'num_critic_layers': 1},\n",
      "  'dataset': {'env': 'Wordle-v2-10-visualized',\n",
      "              'episode_length': 512,\n",
      "              'init_winning_replays': '',\n",
      "              'replay_size': 1000,\n",
      "              'word_file': 'small_wordle_words.txt'},\n",
      "  'experiment': {'do_render': False,\n",
      "                 'name': 'a2c/word_file:small_wordle_words.txt/embedding_matrix:spacy/matrix_width:300/epochs:10000',\n",
      "                 'num_workers': 0,\n",
      "                 'resume_from_checkpoint': '',\n",
      "                 'seed': 123,\n",
      "                 'steps_per_update': 100,\n",
      "                 'sync_rate': 100},\n",
      "  'training': {'algorithm': 'a2c',\n",
      "               'avg_reward_len': 100,\n",
      "               'batch_size': 64,\n",
      "               'checkpoint_every_n_epochs': 1000,\n",
      "               'critic_beta': 0.5,\n",
      "               'entropy_beta': 0.01,\n",
      "               'epoch_len': 10,\n",
      "               'epochs': 10000,\n",
      "               'gamma': 0.99,\n",
      "               'last_frame_cutoff': 0.8,\n",
      "               'lr': 0.0001,\n",
      "               'max_eps': 1.0,\n",
      "               'min_eps': 0.01,\n",
      "               'prob_cheat': 0.0,\n",
      "               'prob_play_lost_word': 0.0,\n",
      "               'weight_decay': 0.0}}]\n"
     ]
    }
   ],
   "source": [
    "pprint.pprint(config_dicts)"
   ]
  },
  {
   "cell_type": "code",
   "execution_count": 23,
   "id": "0fa0606e",
   "metadata": {},
   "outputs": [
    {
     "name": "stderr",
     "output_type": "stream",
     "text": [
      "sacct: error: slurm_persist_conn_open_without_init: failed to open persistent connection to host:slurmdbd:6819: Connection timed out\n",
      "sacct: error: Sending PersistInit msg: Connection timed out\n",
      "sacct: error: Problem talking to the database: Connection timed out\n",
      "submitit WARNING (2022-05-08 04:15:31,139) - Call #5 - Bypassing sacct error Command '['sacct', '-o', 'JobID,State,NodeList', '--parsable2', '-j', '554844', '-j', '554994', '-j', '554845', '-j', '554851', '-j', '554847', '-j', '554850', '-j', '554992', '-j', '554848', '-j', '554846', '-j', '554991', '-j', '554993', '-j', '554995', '-j', '554852', '-j', '554997', '-j', '554843', '-j', '554996', '-j', '554849']' returned non-zero exit status 1., status may be inaccurate.\n"
     ]
    },
    {
     "name": "stdout",
     "output_type": "stream",
     "text": [
      "submitit WARNING (2022-05-08 04:15:31,139) - Call #5 - Bypassing sacct error Command '['sacct', '-o', 'JobID,State,NodeList', '--parsable2', '-j', '554844', '-j', '554994', '-j', '554845', '-j', '554851', '-j', '554847', '-j', '554850', '-j', '554992', '-j', '554848', '-j', '554846', '-j', '554991', '-j', '554993', '-j', '554995', '-j', '554852', '-j', '554997', '-j', '554843', '-j', '554996', '-j', '554849']' returned non-zero exit status 1., status may be inaccurate.\n"
     ]
    },
    {
     "data": {
      "text/plain": [
       "[SlurmJob<job_id=554995, task_id=0, state=\"UNKNOWN\">,\n",
       " SlurmJob<job_id=554996, task_id=0, state=\"UNKNOWN\">,\n",
       " SlurmJob<job_id=554997, task_id=0, state=\"UNKNOWN\">]"
      ]
     },
     "execution_count": 23,
     "metadata": {},
     "output_type": "execute_result"
    }
   ],
   "source": [
    "wdl.make_config.run_submitit_job_array(config_dicts)"
   ]
  }
 ],
 "metadata": {
  "kernelspec": {
   "display_name": "wordrl",
   "language": "python",
   "name": "wordrl"
  },
  "language_info": {
   "codemirror_mode": {
    "name": "ipython",
    "version": 3
   },
   "file_extension": ".py",
   "mimetype": "text/x-python",
   "name": "python",
   "nbconvert_exporter": "python",
   "pygments_lexer": "ipython3",
   "version": "3.7.5"
  }
 },
 "nbformat": 4,
 "nbformat_minor": 5
}
